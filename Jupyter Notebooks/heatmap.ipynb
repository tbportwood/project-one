{
 "cells": [
  {
   "cell_type": "code",
   "execution_count": 1,
   "metadata": {},
   "outputs": [
    {
     "data": {
      "application/vnd.jupyter.widget-view+json": {
       "model_id": "f2599abebd714c8db5f663f3744621c4",
       "version_major": 2,
       "version_minor": 0
      },
      "text/plain": [
       "Figure(layout=FigureLayout(height='420px'))"
      ]
     },
     "metadata": {},
     "output_type": "display_data"
    }
   ],
   "source": [
    "%matplotlib inline\n",
    "import gmaps\n",
    "import numpy as np\n",
    "import pandas as pd\n",
    "from matplotlib import pyplot as plt\n",
    "\n",
    "locationsHV_df = pd.read_csv('../Resources/Lat_Lng_withHomeValues.csv')\n",
    "\n",
    "from api_keys import g_key\n",
    "\n",
    "gmaps.configure(api_key=g_key)\n",
    "\n",
    "\n",
    "locations = locationsHV_df[[\"Lat\", \"Lng\"]]\n",
    "weights = locationsHV_df[\"Percent Change\"]\n",
    "\n",
    "fig = gmaps.figure(center=(33.755711,-84.388372), zoom_level=11)\n",
    "\n",
    "fig.add_layer(gmaps.heatmap_layer(locations, weights, max_intensity =0.6, point_radius = 25))\n",
    "\n",
    "fig"
   ]
  },
  {
   "cell_type": "code",
   "execution_count": null,
   "metadata": {},
   "outputs": [],
   "source": []
  }
 ],
 "metadata": {
  "kernelspec": {
   "display_name": "Python 3",
   "language": "python",
   "name": "python3"
  },
  "language_info": {
   "codemirror_mode": {
    "name": "ipython",
    "version": 3
   },
   "file_extension": ".py",
   "mimetype": "text/x-python",
   "name": "python",
   "nbconvert_exporter": "python",
   "pygments_lexer": "ipython3",
   "version": "3.7.4"
  }
 },
 "nbformat": 4,
 "nbformat_minor": 4
}
