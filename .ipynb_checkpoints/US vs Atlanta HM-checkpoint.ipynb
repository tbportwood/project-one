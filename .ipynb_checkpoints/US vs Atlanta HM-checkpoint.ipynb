{
 "cells": [
  {
   "cell_type": "code",
   "execution_count": 124,
   "metadata": {},
   "outputs": [
    {
     "data": {
      "text/html": [
       "<div>\n",
       "<style scoped>\n",
       "    .dataframe tbody tr th:only-of-type {\n",
       "        vertical-align: middle;\n",
       "    }\n",
       "\n",
       "    .dataframe tbody tr th {\n",
       "        vertical-align: top;\n",
       "    }\n",
       "\n",
       "    .dataframe thead th {\n",
       "        text-align: right;\n",
       "    }\n",
       "</style>\n",
       "<table border=\"1\" class=\"dataframe\">\n",
       "  <thead>\n",
       "    <tr style=\"text-align: right;\">\n",
       "      <th></th>\n",
       "      <th>RegionName</th>\n",
       "      <th>2008-01</th>\n",
       "      <th>2008-02</th>\n",
       "      <th>2008-03</th>\n",
       "      <th>2008-04</th>\n",
       "      <th>2008-05</th>\n",
       "      <th>2008-06</th>\n",
       "      <th>2008-07</th>\n",
       "      <th>2008-08</th>\n",
       "      <th>2008-09</th>\n",
       "      <th>...</th>\n",
       "      <th>2019-02</th>\n",
       "      <th>2019-03</th>\n",
       "      <th>2019-04</th>\n",
       "      <th>2019-05</th>\n",
       "      <th>2019-06</th>\n",
       "      <th>2019-07</th>\n",
       "      <th>2019-08</th>\n",
       "      <th>2019-09</th>\n",
       "      <th>2019-10</th>\n",
       "      <th>2019-11</th>\n",
       "    </tr>\n",
       "  </thead>\n",
       "  <tbody>\n",
       "    <tr>\n",
       "      <th>0</th>\n",
       "      <td>United States</td>\n",
       "      <td>204708.0</td>\n",
       "      <td>203742.0</td>\n",
       "      <td>202810.0</td>\n",
       "      <td>200931.3333</td>\n",
       "      <td>199143.6667</td>\n",
       "      <td>197420.0</td>\n",
       "      <td>195791.6667</td>\n",
       "      <td>194096.3333</td>\n",
       "      <td>192482.6667</td>\n",
       "      <td>...</td>\n",
       "      <td>237154</td>\n",
       "      <td>237945.3333</td>\n",
       "      <td>238624.6667</td>\n",
       "      <td>239270.0000</td>\n",
       "      <td>239882.0000</td>\n",
       "      <td>240460.3333</td>\n",
       "      <td>241057.0000</td>\n",
       "      <td>241730.6667</td>\n",
       "      <td>242470.6667</td>\n",
       "      <td>243225.3333</td>\n",
       "    </tr>\n",
       "    <tr>\n",
       "      <th>1</th>\n",
       "      <td>Atlanta, GA</td>\n",
       "      <td>193619.0</td>\n",
       "      <td>192713.0</td>\n",
       "      <td>191834.0</td>\n",
       "      <td>190368.3333</td>\n",
       "      <td>189135.3333</td>\n",
       "      <td>188028.0</td>\n",
       "      <td>186794.6667</td>\n",
       "      <td>185446.6667</td>\n",
       "      <td>184112.3333</td>\n",
       "      <td>...</td>\n",
       "      <td>229316</td>\n",
       "      <td>230491.3333</td>\n",
       "      <td>231669.6667</td>\n",
       "      <td>232602.0000</td>\n",
       "      <td>232897.6667</td>\n",
       "      <td>233357.6667</td>\n",
       "      <td>234031.6667</td>\n",
       "      <td>235044.0000</td>\n",
       "      <td>235879.0000</td>\n",
       "      <td>236768.6667</td>\n",
       "    </tr>\n",
       "    <tr>\n",
       "      <th>2</th>\n",
       "      <td>Summerhill</td>\n",
       "      <td>NaN</td>\n",
       "      <td>NaN</td>\n",
       "      <td>NaN</td>\n",
       "      <td>NaN</td>\n",
       "      <td>NaN</td>\n",
       "      <td>NaN</td>\n",
       "      <td>NaN</td>\n",
       "      <td>NaN</td>\n",
       "      <td>NaN</td>\n",
       "      <td>...</td>\n",
       "      <td>352489</td>\n",
       "      <td>357064.0000</td>\n",
       "      <td>359766.0000</td>\n",
       "      <td>363067.3333</td>\n",
       "      <td>364086.6667</td>\n",
       "      <td>365395.0000</td>\n",
       "      <td>364949.3333</td>\n",
       "      <td>364914.0000</td>\n",
       "      <td>364046.0000</td>\n",
       "      <td>364488.3333</td>\n",
       "    </tr>\n",
       "  </tbody>\n",
       "</table>\n",
       "<p>3 rows × 144 columns</p>\n",
       "</div>"
      ],
      "text/plain": [
       "      RegionName   2008-01   2008-02   2008-03      2008-04      2008-05  \\\n",
       "0  United States  204708.0  203742.0  202810.0  200931.3333  199143.6667   \n",
       "1    Atlanta, GA  193619.0  192713.0  191834.0  190368.3333  189135.3333   \n",
       "2     Summerhill       NaN       NaN       NaN          NaN          NaN   \n",
       "\n",
       "    2008-06      2008-07      2008-08      2008-09  ...  2019-02      2019-03  \\\n",
       "0  197420.0  195791.6667  194096.3333  192482.6667  ...   237154  237945.3333   \n",
       "1  188028.0  186794.6667  185446.6667  184112.3333  ...   229316  230491.3333   \n",
       "2       NaN          NaN          NaN          NaN  ...   352489  357064.0000   \n",
       "\n",
       "       2019-04      2019-05      2019-06      2019-07      2019-08  \\\n",
       "0  238624.6667  239270.0000  239882.0000  240460.3333  241057.0000   \n",
       "1  231669.6667  232602.0000  232897.6667  233357.6667  234031.6667   \n",
       "2  359766.0000  363067.3333  364086.6667  365395.0000  364949.3333   \n",
       "\n",
       "       2019-09      2019-10      2019-11  \n",
       "0  241730.6667  242470.6667  243225.3333  \n",
       "1  235044.0000  235879.0000  236768.6667  \n",
       "2  364914.0000  364046.0000  364488.3333  \n",
       "\n",
       "[3 rows x 144 columns]"
      ]
     },
     "execution_count": 124,
     "metadata": {},
     "output_type": "execute_result"
    }
   ],
   "source": [
    "##Code created by Taylor Portwood\n",
    "#import dependencies\n",
    "import pandas as pd\n",
    "import numpy as np\n",
    "from matplotlib import pyplot as plt\n",
    "import gmaps\n",
    "\n",
    "#read in CSV file\n",
    "home_df = pd.read_csv('Metro_Zhvi_AllHomes (1).csv')\n",
    "\n",
    "#drop unnecessary columns\n",
    "home_df.drop([\"RegionID\", \"SizeRank\"], axis = 1)"
   ]
  },
  {
   "cell_type": "code",
   "execution_count": 125,
   "metadata": {},
   "outputs": [],
   "source": [
    "#we want to filter columns to be able to review relevant data in our dataframe. new_columns will store the columns we want\n",
    "new_columns = []\n",
    "\n",
    "#this loop goes through each month and year from 2015 to 2019 and adds it to the new_columns list\n",
    "for i in range(2015, 2020):\n",
    "    for j in range(1,13):\n",
    "        if i == 2019 and j == 12:\n",
    "            break\n",
    "        if j < 10:\n",
    "            new_columns.append(str(i) + '-0' + str(j))\n",
    "        else:\n",
    "            new_columns.append(str(i) + '-'+ str(j))\n",
    "\n",
    "#specify that we only want to look at the data from the new_columns list (i.e., we are dropping the columns from before 2015)\n",
    "home_df = home_df[new_columns]\n",
    "\n",
    "#transpose data to make it easier to use in matplotlib\n",
    "home_df = home_df.transpose()"
   ]
  },
  {
   "cell_type": "code",
   "execution_count": 126,
   "metadata": {},
   "outputs": [
    {
     "data": {
      "image/png": "[encoded data removed]",
      "text/plain": [
       "<Figure size 432x288 with 1 Axes>"
      ]
     },
     "metadata": {
      "needs_background": "light"
     },
     "output_type": "display_data"
    }
   ],
   "source": [
    "#plot home value vs. time for US and Atlanta\n",
    "plt.plot(home_df.index,home_df[home_df.columns[1]])\n",
    "plt.plot(home_df.index, home_df[home_df.columns[0]])\n",
    "\n",
    "#Space out xticks so they are more readable\n",
    "plt.xticks([0, 12, 24, 36, 48])\n",
    "\n",
    "#label x and y axes\n",
    "plt.xlabel(\"Year\")\n",
    "plt.ylabel(\"Median House Value\")\n",
    "\n",
    "#add title to plot\n",
    "plt.title(\"Median House Value (Jan 2015 - Nov 2019)\")\n",
    "\n",
    "#add legend to plot\n",
    "plt.legend([\"Atlanta\", \"US\"])\n",
    "\n",
    "#save figure\n",
    "plt.savefig(\"AtlantavsUS.png\")"
   ]
  },
  {
   "cell_type": "code",
   "execution_count": 135,
   "metadata": {},
   "outputs": [],
   "source": [
    "#home_df[\"Percent Change\"] = home_df[\"\"]\n",
    "home_df[\"Percent Change_US\"] = (home_df[0][\"2019-11\"] - home_df[0][\"2015-01\"]) / home_df[0][\"2019-11\"] * 100\n",
    "home_df[\"Percent Change_Atlanta\"] = (home_df[1][\"2019-11\"] - home_df[1][\"2015-01\"]) / home_df[1][\"2019-11\"] * 100"
   ]
  },
  {
   "cell_type": "code",
   "execution_count": 152,
   "metadata": {},
   "outputs": [
    {
     "data": {
      "image/png": "[encoded data removed]",
      "text/plain": [
       "<Figure size 432x288 with 1 Axes>"
      ]
     },
     "metadata": {
      "needs_background": "light"
     },
     "output_type": "display_data"
    }
   ],
   "source": [
    "plt.bar(x=\"Atlanta\", height = home_df[\"Percent Change_Atlanta\"][1])\n",
    "plt.bar(x=\"US\", height = home_df[\"Percent Change_US\"])\n",
    "plt.xlabel(\"Location\")\n",
    "plt.ylabel(\"Percent Change\")\n",
    "plt.text(x=-0.1, y = 3, c=\"White\", s=\"%.2f\" %home_df[\"Percent Change_Atlanta\"][1] + '%')\n",
    "plt.text(x=0.9, y = 3, c=\"White\", s=\"%.2f\" %home_df[\"Percent Change_US\"][1] + '%')\n",
    "plt.title(\"Percent Change in Housing Values (Jan 2015 - Nov 2019)\")\n",
    "plt.savefig(\"AtlantavsUSBar.png\")"
   ]
  },
  {
   "cell_type": "code",
   "execution_count": null,
   "metadata": {},
   "outputs": [],
   "source": []
  }
 ],
 "metadata": {
  "kernelspec": {
   "display_name": "Python 3",
   "language": "python",
   "name": "python3"
  },
  "language_info": {
   "codemirror_mode": {
    "name": "ipython",
    "version": 3
   },
   "file_extension": ".py",
   "mimetype": "text/x-python",
   "name": "python",
   "nbconvert_exporter": "python",
   "pygments_lexer": "ipython3",
   "version": "3.7.3"
  }
 },
 "nbformat": 4,
 "nbformat_minor": 2
}
