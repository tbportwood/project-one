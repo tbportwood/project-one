{
 "cells": [
  {
   "cell_type": "code",
   "execution_count": 65,
   "metadata": {},
   "outputs": [
    {
     "name": "stderr",
     "output_type": "stream",
     "text": [
      "C:\\Users\\TaylorP\\AppData\\Local\\Continuum\\anaconda3\\lib\\site-packages\\ipykernel_launcher.py:40: SettingWithCopyWarning: \n",
      "A value is trying to be set on a copy of a slice from a DataFrame\n",
      "\n",
      "See the caveats in the documentation: http://pandas.pydata.org/pandas-docs/stable/indexing.html#indexing-view-versus-copy\n",
      "C:\\Users\\TaylorP\\AppData\\Local\\Continuum\\anaconda3\\lib\\site-packages\\ipykernel_launcher.py:43: SettingWithCopyWarning: \n",
      "A value is trying to be set on a copy of a slice from a DataFrame\n",
      "\n",
      "See the caveats in the documentation: http://pandas.pydata.org/pandas-docs/stable/indexing.html#indexing-view-versus-copy\n",
      "C:\\Users\\TaylorP\\AppData\\Local\\Continuum\\anaconda3\\lib\\site-packages\\ipykernel_launcher.py:44: SettingWithCopyWarning: \n",
      "A value is trying to be set on a copy of a slice from a DataFrame\n",
      "\n",
      "See the caveats in the documentation: http://pandas.pydata.org/pandas-docs/stable/indexing.html#indexing-view-versus-copy\n"
     ]
    }
   ],
   "source": [
    "#import dependencies\n",
    "import pandas as pd\n",
    "import numpy as np\n",
    "from matplotlib import pyplot as plt\n",
    "from matplotlib import figure\n",
    "import gmaps\n",
    "\n",
    "#create dataframe for our data\n",
    "home_df = pd.read_csv('Neighborhood_Zhvi_AllHomes.csv')\n",
    "\n",
    "#filter for data just in Atlanta. Also drop data that does not have data as of Jan 2015\n",
    "home_df = home_df[home_df[\"City\"] == 'Atlanta']\n",
    "\n",
    "#create summary columns for our dataset\n",
    "home_df[\"PercentChange\"] = 0\n",
    "home_df[\"InitialValue\"] = 0\n",
    "home_df[\"FinalValue\"] = 0\n",
    "home_df[\"MonthCount\"] = 0\n",
    "\n",
    "\n",
    "#scripting to calculate Initial Value (median house value as of 01-2015), Final Median Housing Value, Number of Months of Data\n",
    "#and Percent Change over data range\n",
    "for index, row in home_df.iterrows():\n",
    "    PercentChange = 0\n",
    "    InitialValue = 0\n",
    "    FinalValue = 0\n",
    "    month = 11\n",
    "    month_count = 0\n",
    "    year = 2015\n",
    "    while (month != 12 or year != 2019):\n",
    "        if month_count >= 1:\n",
    "            month_count+=1\n",
    "        year_str = str(year)\n",
    "        if month < 10:\n",
    "            month_str = '0' + str(month)\n",
    "        else:\n",
    "            month_str = str(month)\n",
    "        if not np.isnan(home_df.loc[index, year_str + '-' + month_str]) and InitialValue == 0:\n",
    "            InitialValue = home_df.loc[index, year_str + '-' + month_str]\n",
    "            home_df[\"InitialValue\"][index] = InitialValue\n",
    "            month_count+=1\n",
    "        if month == 11 and year == 2019:\n",
    "            home_df[\"FinalValue\"][index] = home_df.loc[index, year_str + '-' + month_str] \n",
    "            home_df[\"MonthCount\"][index] = month_count\n",
    "        if month == 12:\n",
    "            month = 1\n",
    "            year+=1\n",
    "        else:\n",
    "            month+=1\n",
    "\n",
    "home_df[\"Percent Change\"] = (home_df[\"FinalValue\"] - home_df[\"InitialValue\"]) / home_df[\"InitialValue\"]  * 100\n",
    "cols = [\"RegionName\", \"City\", \"State\", \"InitialValue\", \"FinalValue\", \"Percent Change\"]\n",
    "home_df = home_df[cols]\n",
    "\n"
   ]
  },
  {
   "cell_type": "code",
   "execution_count": 66,
   "metadata": {},
   "outputs": [],
   "source": [
    "home_df = home_df[home_df[\"Percent Change\"] < 4]"
   ]
  },
  {
   "cell_type": "code",
   "execution_count": 67,
   "metadata": {},
   "outputs": [
    {
     "data": {
      "text/html": [
       "<div>\n",
       "<style scoped>\n",
       "    .dataframe tbody tr th:only-of-type {\n",
       "        vertical-align: middle;\n",
       "    }\n",
       "\n",
       "    .dataframe tbody tr th {\n",
       "        vertical-align: top;\n",
       "    }\n",
       "\n",
       "    .dataframe thead th {\n",
       "        text-align: right;\n",
       "    }\n",
       "</style>\n",
       "<table border=\"1\" class=\"dataframe\">\n",
       "  <thead>\n",
       "    <tr style=\"text-align: right;\">\n",
       "      <th></th>\n",
       "      <th>RegionName</th>\n",
       "      <th>City</th>\n",
       "      <th>State</th>\n",
       "      <th>InitialValue</th>\n",
       "      <th>FinalValue</th>\n",
       "      <th>Percent Change</th>\n",
       "    </tr>\n",
       "  </thead>\n",
       "  <tbody>\n",
       "    <tr>\n",
       "      <th>8538</th>\n",
       "      <td>Ben Hill Acres</td>\n",
       "      <td>Atlanta</td>\n",
       "      <td>GA</td>\n",
       "      <td>151003</td>\n",
       "      <td>134999</td>\n",
       "      <td>-10.598465</td>\n",
       "    </tr>\n",
       "    <tr>\n",
       "      <th>8602</th>\n",
       "      <td>Fairburn Road - Wisteria Lane</td>\n",
       "      <td>Atlanta</td>\n",
       "      <td>GA</td>\n",
       "      <td>143092</td>\n",
       "      <td>132695</td>\n",
       "      <td>-7.265955</td>\n",
       "    </tr>\n",
       "    <tr>\n",
       "      <th>5635</th>\n",
       "      <td>Ridgedale Park</td>\n",
       "      <td>Atlanta</td>\n",
       "      <td>GA</td>\n",
       "      <td>321351</td>\n",
       "      <td>326146</td>\n",
       "      <td>1.492138</td>\n",
       "    </tr>\n",
       "  </tbody>\n",
       "</table>\n",
       "</div>"
      ],
      "text/plain": [
       "                         RegionName     City State  InitialValue  FinalValue  \\\n",
       "8538                 Ben Hill Acres  Atlanta    GA        151003      134999   \n",
       "8602  Fairburn Road - Wisteria Lane  Atlanta    GA        143092      132695   \n",
       "5635                 Ridgedale Park  Atlanta    GA        321351      326146   \n",
       "\n",
       "      Percent Change  \n",
       "8538      -10.598465  \n",
       "8602       -7.265955  \n",
       "5635        1.492138  "
      ]
     },
     "execution_count": 67,
     "metadata": {},
     "output_type": "execute_result"
    }
   ],
   "source": [
    "home_df = home_df.sort_values(by= \"Percent Change\")\n",
    "home_df"
   ]
  },
  {
   "cell_type": "code",
   "execution_count": 82,
   "metadata": {},
   "outputs": [
    {
     "data": {
      "image/png": "[encoded data removed]",
      "text/plain": [
       "<Figure size 792x576 with 1 Axes>"
      ]
     },
     "metadata": {
      "needs_background": "light"
     },
     "output_type": "display_data"
    }
   ],
   "source": [
    "plt.bar(x = home_df[\"RegionName\"], height = home_df[\"Percent Change\"], color = ['red', 'red', 'green'], edgecolor = 'black')\n",
    "plt.title(\"Percent Change Median Housing Price (Nov 2015 - Nov 2019)\")\n",
    "plt.xlabel(\"Neighborhood\")\n",
    "plt.ylabel(\"Percent Change\")\n",
    "plt.text(x = -0.15, y = -1, s = \"-10.6%\", c = \"white\", fontdict = {'family': 'serif',\n",
    "        'color':  'white',\n",
    "        'weight': 'normal',\n",
    "        'size': 20,\n",
    "        })\n",
    "plt.text(x=0.9, y = -1, s = \"-7.3%\", c= \"white\", fontdict = {'family': 'serif',\n",
    "        'color':  'white',\n",
    "        'weight': 'normal',\n",
    "        'size': 20,\n",
    "        })\n",
    "plt.text(x=1.9, y=0.7, s=\"+1.5%\", c=\"white\", fontdict = {'family': 'serif',\n",
    "        'color':  'white',\n",
    "        'weight': 'normal',\n",
    "        'size': 20,\n",
    "        })\n",
    "plt.xticks(rotation=45)\n",
    "fig = plt.gcf()\n",
    "fig.set_size_inches(11, 8)\n",
    "fig.savefig('Declining.png', dpi=100)"
   ]
  },
  {
   "cell_type": "code",
   "execution_count": null,
   "metadata": {},
   "outputs": [],
   "source": []
  },
  {
   "cell_type": "code",
   "execution_count": null,
   "metadata": {},
   "outputs": [],
   "source": []
  }
 ],
 "metadata": {
  "kernelspec": {
   "display_name": "Python 3",
   "language": "python",
   "name": "python3"
  },
  "language_info": {
   "codemirror_mode": {
    "name": "ipython",
    "version": 3
   },
   "file_extension": ".py",
   "mimetype": "text/x-python",
   "name": "python",
   "nbconvert_exporter": "python",
   "pygments_lexer": "ipython3",
   "version": "3.7.3"
  }
 },
 "nbformat": 4,
 "nbformat_minor": 2
}
